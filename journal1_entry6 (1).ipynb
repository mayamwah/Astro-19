{
 "cells": [
  {
   "cell_type": "code",
   "execution_count": 6,
   "id": "d8e625cb-ff17-40ca-b5a4-ba4253a2d6db",
   "metadata": {},
   "outputs": [],
   "source": [
    "import numpy as np"
   ]
  },
  {
   "cell_type": "code",
   "execution_count": 15,
   "id": "3772e558-a2bd-4000-ab5e-3e9c84b991dc",
   "metadata": {},
   "outputs": [],
   "source": [
    "# function that returns sin(x)\n",
    "def returnSin(x):\n",
    "    return np.sin(x)"
   ]
  },
  {
   "cell_type": "code",
   "execution_count": 14,
   "id": "cbc1a80f-cbe8-4ce3-9acf-b70a4b7c21da",
   "metadata": {},
   "outputs": [],
   "source": [
    "# function that returns cos(x)\n",
    "def returnCos(x):\n",
    "    return np.cos(x)"
   ]
  },
  {
   "cell_type": "code",
   "execution_count": 16,
   "id": "405163d3-6bb1-4139-a42f-835289cab30b",
   "metadata": {},
   "outputs": [
    {
     "name": "stdout",
     "output_type": "stream",
     "text": [
      "    0.0000     0.0000     1.0000\n",
      "    0.0063     0.0063     1.0000\n",
      "    0.0126     0.0126     0.9999\n",
      "    0.0189     0.0189     0.9998\n",
      "    0.0252     0.0252     0.9997\n",
      "    0.0314     0.0314     0.9995\n",
      "    0.0377     0.0377     0.9993\n",
      "    0.0440     0.0440     0.9990\n",
      "    0.0503     0.0503     0.9987\n",
      "    0.0566     0.0566     0.9984\n"
     ]
    }
   ],
   "source": [
    "def main():\n",
    "    x_values = np.linspace(0,2*np.pi,1000)\n",
    "    sin_values = returnSin(x_values)\n",
    "    cos_values = returnCos(x_values)\n",
    "    \n",
    "    for i in range(10):\n",
    "        print(f\"{x_values[i]:>10.4f} {sin_values[i]:>10.4f} {cos_values[i]:>10.4f}\")\n",
    "        \n",
    "if __name__ == \"__main__\":\n",
    "    main()"
   ]
  },
  {
   "cell_type": "code",
   "execution_count": null,
   "id": "b55da97c-8cf5-40b2-a8b4-37cac154adca",
   "metadata": {},
   "outputs": [],
   "source": []
  },
  {
   "cell_type": "code",
   "execution_count": null,
   "id": "e5192c56-4884-4f4d-bf6a-52d56a9bce4c",
   "metadata": {},
   "outputs": [],
   "source": []
  },
  {
   "cell_type": "code",
   "execution_count": null,
   "id": "5679841d-6d91-40f8-ba4f-52181ff98df9",
   "metadata": {},
   "outputs": [],
   "source": []
  }
 ],
 "metadata": {
  "kernelspec": {
   "display_name": "ASTR 19",
   "language": "python",
   "name": "astr19"
  },
  "language_info": {
   "codemirror_mode": {
    "name": "ipython",
    "version": 3
   },
   "file_extension": ".py",
   "mimetype": "text/x-python",
   "name": "python",
   "nbconvert_exporter": "python",
   "pygments_lexer": "ipython3",
   "version": "3.10.12"
  }
 },
 "nbformat": 4,
 "nbformat_minor": 5
}
